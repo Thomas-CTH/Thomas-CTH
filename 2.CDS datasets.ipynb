{
 "cells": [
  {
   "cell_type": "code",
   "execution_count": 1,
   "metadata": {},
   "outputs": [
    {
     "name": "stdout",
     "output_type": "stream",
     "text": [
      "#All Libaries are imported already#\n"
     ]
    }
   ],
   "source": [
    "####\n",
    "\n",
    "# Code generated for \"Bill of Lading\" dataset registered under \"Bill of Lading (PIERS)\" package\n",
    "\n",
    "# Documentation and Installations Instructions link: https://catalogue.datalake.ihsmarkit.com (please follow the links to \"Documentation\")\n",
    "\n",
    "# This code is compatible with latest version of the Data Lake command line interface hosted on pypi.org: https://pypi.org/project/dli/\n",
    "\n",
    "# To run with python interpreter (preferably using 3.x version)\n",
    "\n",
    "####\n",
    "\n",
    "\n",
    "\n",
    "# Import Libraries\n",
    "\n",
    "import dli\n",
    "import pandas as pd\n",
    "import pyarrow.parquet as pq\n",
    "import numpy as np\n",
    "import matplotlib\n",
    "from sklearn.linear_model import LinearRegression\n",
    "import os, glob\n",
    "from os import listdir\n",
    "import gc\n",
    "\n",
    "\n",
    "print('#All Libaries are imported already#')"
   ]
  },
  {
   "cell_type": "code",
   "execution_count": 2,
   "metadata": {},
   "outputs": [],
   "source": [
    "# Function for transforming cds\n",
    "def exp(x):\n",
    "        return 2.71828182845904523536**x\n",
    "def transform_cds(df,ticker,year,month):\n",
    "    # Filter according to the Tenor column and extract only the rows of Tenor under 1 years\n",
    "    df = df[df.Tenor.isin(['3M','6M','9M','1Y'])]\n",
    "    # Calculate the Probability of Default\n",
    "    mapping = {'3M':0.25,'6M':0.5,'9M':0.75,'1Y':1}\n",
    "    df = df.replace({'Tenor': mapping})\n",
    "    df['PD']=1-exp(df['Tenor']*df['ConvSpread']/(df['RealRecovery']-1))\n",
    "    df = df[df['Ticker'].isin(ticker)]\n",
    "    df['Year'] = year\n",
    "    df['Month'] = month\n",
    "    df = df[(df['PrimaryCoupon']== True) & (df['PrimaryCurve']== True)]\n",
    "    return df\n",
    "\n",
    "# Extract file name of the CDS datasets\n",
    "def cds_getfilepath(i,j):\n",
    "    a = \"%02d\" % (j,)\n",
    "    k=1\n",
    "    dirName = r\"C:\\Users\\Thomas TH Chow\\Desktop\\Datalake\\Credit Rating Modeling\\CDSSingleNamePricingSensitivitiesandLiquidity\\as_of_date={}-{}-0{}\".format(i,a,k)\n",
    "    while ((os.path.exists(dirName) == False) and (k != 10)):\n",
    "        k = k+1\n",
    "        dirName = r\"C:\\Users\\Thomas TH Chow\\Desktop\\Datalake\\Credit Rating Modeling\\CDSSingleNamePricingSensitivitiesandLiquidity\\as_of_date={}-{}-0{}\".format(i,a,k)\n",
    "    CDS_Files = [file for file in listdir(dirName) if file.endswith('.snappy.parquet')]\n",
    "    CDS_File = CDS_Files[0]\n",
    "    path = os.path.join(dirName, CDS_File)\n",
    "    return path"
   ]
  },
  {
   "cell_type": "code",
   "execution_count": 3,
   "metadata": {},
   "outputs": [
    {
     "name": "stdout",
     "output_type": "stream",
     "text": [
      "All available files have been transformed.\n"
     ]
    }
   ],
   "source": [
    "#Filter function for export\n",
    "BoL_ticker = 'matched_fcompany_ihsm_ticker'\n",
    "tickers = pd.read_excel(rf'C:\\Users\\Thomas TH Chow\\Desktop\\Datalake\\Tickers\\IHS {BoL_ticker} Common List.xlsx')['Common Ticker'].to_list()\n",
    "\n",
    "# main function to transforming all year cds data of exporting company\n",
    "for i in range(2001,2021):\n",
    "    for j in range(1,13):\n",
    "        try:\n",
    "            cds_df = pd.read_parquet(cds_getfilepath(i,j))\n",
    "            cds_df = transform_cds(cds_df,tickers,i,j)\n",
    "            # Store the completed datasets to local drive\n",
    "            j = \"%02d\" % (j,)\n",
    "            output_path = r\"C:\\Users\\Thomas TH Chow\\Desktop\\Datalake\\Credit Rating Modeling\\Clean datasets\\Export Data\\CDS\\cds_df as_of_date={}-{}.parquet.gzip\".format(i,j)\n",
    "            cds_df.to_parquet(output_path,\n",
    "                          compression='gzip')\n",
    "            del cds_df\n",
    "            gc.collect()\n",
    "        except:\n",
    "            print('All available files have been transformed.')\n",
    "            continue"
   ]
  },
  {
   "cell_type": "code",
   "execution_count": 6,
   "metadata": {},
   "outputs": [
    {
     "name": "stdout",
     "output_type": "stream",
     "text": [
      "All available files have been transformed.\n"
     ]
    }
   ],
   "source": [
    "#Filter function for import\n",
    "BoL_ticker = 'matched_ntfcompany_ihsm_ticker'\n",
    "tickers = pd.read_excel(rf'C:\\Users\\Thomas TH Chow\\Desktop\\Datalake\\Tickers\\IHS {BoL_ticker} Common List.xlsx')['Common Ticker'].to_list()\n",
    "\n",
    "# main function to transforming all year cds data of importing company\n",
    "for i in range(2001,2021):\n",
    "    for j in range(1,13):\n",
    "        try:\n",
    "            cds_df = pd.read_parquet(cds_getfilepath(i,j))\n",
    "            cds_df = transform_cds(cds_df,tickers,i,j)\n",
    "            # Store the completed datasets to local drive\n",
    "            j = \"%02d\" % (j,)\n",
    "            output_path = r\"C:\\Users\\Thomas TH Chow\\Desktop\\Datalake\\Credit Rating Modeling\\Clean datasets\\Import Data\\CDS\\cds_df as_of_date={}-{}.parquet.gzip\".format(i,j)\n",
    "            cds_df.to_parquet(output_path,\n",
    "                          compression='gzip')\n",
    "            del cds_df\n",
    "            gc.collect()\n",
    "        except:\n",
    "            print('All available files have been transformed.')\n",
    "            continue"
   ]
  },
  {
   "cell_type": "markdown",
   "metadata": {},
   "source": [
    "Below are the codes for generating data of a specific company -- optional for internal discussion "
   ]
  },
  {
   "cell_type": "code",
   "execution_count": null,
   "metadata": {},
   "outputs": [],
   "source": [
    "#Sort and Filter all companies with potentials of default and output two company level Excel file for exploration\n",
    "Tickers = default_df['Ticker'].unique().tolist()\n",
    "output_path = r\"C:\\Users\\Thomas TH Chow\\Desktop\\DataLake Team Email 12112020\\Company Going to default\"\n",
    "\n",
    "for Ticker in Tickers:\n",
    "    input_path = r\"C:\\Users\\Thomas TH Chow\\Desktop\\Datalake\\Credit Rating Modeling\\Clean datasets\\CDS datasets\"\n",
    "    cds_files = [file for file in listdir(input_path) if file.endswith('.parquet.gzip')]\n",
    "    for i in range (0,len(cds_files)):\n",
    "        cds_file = cds_files[i]\n",
    "        path = os.path.join(input_path, cds_file)\n",
    "        print(path)\n",
    "        temp_df = pd.read_parquet(path)\n",
    "        print(temp_df.shape)\n",
    "        temp_df = temp_df[temp_df['Ticker'] == Ticker]\n",
    "        temp_df.shape\n",
    "        if i == 0:\n",
    "            default_df = temp_df\n",
    "        else:\n",
    "            default_df = default_df.append(temp_df, sort=False)\n",
    "        default_df.shape\n",
    "        del temp_df\n",
    "        gc.collect()\n",
    "    default_df.shape\n",
    "    default_df.to_excel(f'{output_path}\\\\{Ticker}.xlsx')\n",
    "\n",
    "    input_path = r\"C:\\Users\\Thomas TH Chow\\Desktop\\Datalake\\Credit Rating Modeling\\Clean datasets\\Bill of Lading\"\n",
    "    Bill_Temps = [file for file in listdir(input_path) if file.endswith('.parquet.gzip')]\n",
    "    for j in range (0,len(Bill_Temps)):\n",
    "        Bill_Temp = Bill_Temps[j]\n",
    "        path = os.path.join(input_path, Bill_Temp)\n",
    "        print(path)\n",
    "        Temp_df = pd.read_parquet(path)\n",
    "        print(Temp_df.shape)\n",
    "        Temp_df = Temp_df[Temp_df['matched_ntfcompany_ihsm_ticker'] == Ticker]\n",
    "        if (j==0):\n",
    "            default_bill_df = Temp_df\n",
    "        else: \n",
    "            default_bill_df = default_bill_df.append(Temp_df, sort=False)\n",
    "        del Temp_df\n",
    "        gc.collect()\n",
    "    default_bill_df.shape\n",
    "    default_bill_df.to_excel(f'{output_path}\\\\{Ticker}_bill.xlsx')"
   ]
  },
  {
   "cell_type": "code",
   "execution_count": null,
   "metadata": {},
   "outputs": [],
   "source": []
  }
 ],
 "metadata": {
  "kernelspec": {
   "display_name": "Python 3",
   "language": "python",
   "name": "python3"
  },
  "language_info": {
   "codemirror_mode": {
    "name": "ipython",
    "version": 3
   },
   "file_extension": ".py",
   "mimetype": "text/x-python",
   "name": "python",
   "nbconvert_exporter": "python",
   "pygments_lexer": "ipython3",
   "version": "3.8.3"
  }
 },
 "nbformat": 4,
 "nbformat_minor": 4
}
