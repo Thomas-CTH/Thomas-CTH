{
 "cells": [
  {
   "cell_type": "code",
   "execution_count": 1,
   "metadata": {},
   "outputs": [
    {
     "name": "stdout",
     "output_type": "stream",
     "text": [
      "#All Libaries are imported already#\n"
     ]
    }
   ],
   "source": [
    "####\n",
    "\n",
    "# Code generated for \"Bill of Lading\" dataset registered under \"Bill of Lading (PIERS)\" package\n",
    "\n",
    "# Documentation and Installations Instructions link: https://catalogue.datalake.ihsmarkit.com (please follow the links to \"Documentation\")\n",
    "\n",
    "# This code is compatible with latest version of the Data Lake command line interface hosted on pypi.org: https://pypi.org/project/dli/\n",
    "\n",
    "# To run with python interpreter (preferably using 3.x version)\n",
    "\n",
    "####\n",
    "\n",
    "\n",
    "\n",
    "# Import Libraries\n",
    "\n",
    "import dli\n",
    "import pandas as pd\n",
    "import pyarrow.parquet as pq\n",
    "import numpy as np\n",
    "import matplotlib\n",
    "from sklearn.linear_model import LinearRegression\n",
    "import os, glob\n",
    "from os import listdir\n",
    "import gc\n",
    "\n",
    "\n",
    "print('#All Libaries are imported already#')"
   ]
  },
  {
   "cell_type": "code",
   "execution_count": 2,
   "metadata": {},
   "outputs": [
    {
     "name": "stdout",
     "output_type": "stream",
     "text": [
      "All tickers have been extracted.\n"
     ]
    },
    {
     "data": {
      "text/plain": [
       "5160"
      ]
     },
     "execution_count": 2,
     "metadata": {},
     "output_type": "execute_result"
    }
   ],
   "source": [
    "# Extract Ticker List from the CDS datasets\n",
    "def cds_getfilepath(i,j):\n",
    "    a = \"%02d\" % (j,)\n",
    "    k=1\n",
    "    dirName = r\"C:\\Users\\Thomas TH Chow\\Desktop\\Datalake\\Credit Rating Modeling\\CDSSingleNamePricingSensitivitiesandLiquidity\\as_of_date={}-{}-0{}\".format(i,a,k)\n",
    "    while ((os.path.exists(dirName) == False) and (k != 10)):\n",
    "        k = k+1\n",
    "        dirName = r\"C:\\Users\\Thomas TH Chow\\Desktop\\Datalake\\Credit Rating Modeling\\CDSSingleNamePricingSensitivitiesandLiquidity\\as_of_date={}-{}-0{}\".format(i,a,k)\n",
    "    CDS_Files = [file for file in listdir(dirName) if file.endswith('.snappy.parquet')]\n",
    "    CDS_File = CDS_Files[0]\n",
    "    path = os.path.join(dirName, CDS_File)\n",
    "    return path\n",
    "# Second attempt to get all unique tickers in CDS\n",
    "Ticker = []\n",
    "for i in range(2001,2021):\n",
    "    for j in range(1,13):\n",
    "        try:\n",
    "            Temp_df = pd.read_parquet(cds_getfilepath(i,j))\n",
    "            Ticker +=Temp_df['Ticker'].unique().tolist()\n",
    "        except:\n",
    "            print('All tickers have been extracted.')\n",
    "            continue\n",
    "Ticker = list(set(Ticker))\n",
    "len(Ticker)"
   ]
  },
  {
   "cell_type": "code",
   "execution_count": 12,
   "metadata": {},
   "outputs": [
    {
     "name": "stdout",
     "output_type": "stream",
     "text": [
      "26300\n",
      "808\n"
     ]
    },
    {
     "data": {
      "text/plain": [
       "0"
      ]
     },
     "execution_count": 12,
     "metadata": {},
     "output_type": "execute_result"
    }
   ],
   "source": [
    "# Compare the BoL Ticker list with CDS Ticker List \n",
    "input_path = r\"C:\\Users\\Thomas TH Chow\\Desktop\\Datalake\\Credit Rating Modeling\\BOLPTYCMDJoined\\as_of_date=2020-06-08\\type=full\"\n",
    "Bill_files = [file for file in listdir(input_path) if file.endswith('.snappy.parquet')]\n",
    "Bill_ticker = []\n",
    "column_label = 'matched_fcompany_ihsm_ticker'\n",
    "for j in range (0,len(Bill_files)):\n",
    "    Bill_file = Bill_files[j]\n",
    "    path = os.path.join(input_path, Bill_file)\n",
    "    Bill_df = pd.read_parquet(path,columns=[column_label])\n",
    "    Bill_df = Bill_df[Bill_df[column_label].isin(Ticker)]\n",
    "    Bill_ticker += Bill_df[column_label].unique().tolist()\n",
    "print(len(Bill_ticker))\n",
    "Bill_ticker = list(set(Bill_ticker))\n",
    "print(len(Bill_ticker))\n",
    "del Bill_df\n",
    "gc.collect()"
   ]
  },
  {
   "cell_type": "code",
   "execution_count": 11,
   "metadata": {},
   "outputs": [
    {
     "name": "stdout",
     "output_type": "stream",
     "text": [
      "    Common Ticker\n",
      "0          SCMNVX\n",
      "1            SMIN\n",
      "2          ELISSA\n",
      "3             SEE\n",
      "4               A\n",
      "..            ...\n",
      "803            KO\n",
      "804            MU\n",
      "805           MHK\n",
      "806         CAINC\n",
      "807          CNRI\n",
      "\n",
      "[808 rows x 1 columns]\n"
     ]
    }
   ],
   "source": [
    "# Export Ticker List to Excel for Bill of Lading and CDS datasets filtering use\n",
    "Ticker_df=pd.DataFrame(Bill_ticker,columns=['Common Ticker'])\n",
    "print(Ticker_df)\n",
    "Ticker_df.to_excel(rf'C:\\Users\\Thomas TH Chow\\Desktop\\Datalake\\Tickers\\IHS {column_label} Common List.xlsx')"
   ]
  },
  {
   "cell_type": "code",
   "execution_count": null,
   "metadata": {},
   "outputs": [],
   "source": []
  }
 ],
 "metadata": {
  "kernelspec": {
   "display_name": "Python 3",
   "language": "python",
   "name": "python3"
  },
  "language_info": {
   "codemirror_mode": {
    "name": "ipython",
    "version": 3
   },
   "file_extension": ".py",
   "mimetype": "text/x-python",
   "name": "python",
   "nbconvert_exporter": "python",
   "pygments_lexer": "ipython3",
   "version": "3.8.3"
  }
 },
 "nbformat": 4,
 "nbformat_minor": 4
}
